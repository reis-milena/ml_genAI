{
 "cells": [
  {
   "cell_type": "markdown",
   "metadata": {},
   "source": [
    "# OpenAI - Chat completions\n",
    "\n",
    "API into ChatGPT\n",
    "\n",
    "Chat is a series of messages and each message has a role (system, user or assistant) and a content.\n",
    "\n",
    "Parameters:\n",
    "\n",
    "- Model (gpt3.5, gpt-4...)\n",
    "\n",
    "- Temperature or top_p (how random the responses are)\n",
    "\n",
    "- N (number of choices to generate / mutiple responses)\n",
    "\n",
    "- Stream (whether to stram out the output one word at a time)\n",
    "\n",
    "- Stop (Stop sequences)\n",
    "\n",
    "- Max_tokens (\"to controll budget\")\n",
    "\n",
    "- Presence_penalty (penalize or encourage tokens that already appeared)\n",
    "\n",
    "- Logit_bias (map to directly affect the probability of certain tokens)"
   ]
  },
  {
   "cell_type": "code",
   "execution_count": 1,
   "metadata": {},
   "outputs": [],
   "source": [
    "import os\n",
    "from openai import OpenAI"
   ]
  },
  {
   "cell_type": "code",
   "execution_count": 4,
   "metadata": {},
   "outputs": [],
   "source": [
    "client = OpenAI(api_key=\"\") #my api key"
   ]
  },
  {
   "cell_type": "code",
   "execution_count": null,
   "metadata": {},
   "outputs": [],
   "source": [
    "prompt = input(\"Enter your prompt: \")\n",
    "\n",
    "completion = client.chat.completions.create(\n",
    "    model= \"gpt-3.5-turbo\",\n",
    "    messages=[\n",
    "        {'role': \"system\",\n",
    "         'content': \"You are a helpful assistant.\",\n",
    "         'role': \"user\",\n",
    "         'content': prompt}\n",
    "    ]\n",
    ")\n",
    "\n",
    "print(\"\\n\" + completion.choices[0].message.content)\n",
    "\n",
    "print(\"\\nComplete response message:\\n\")\n",
    "print(completion)"
   ]
  },
  {
   "cell_type": "markdown",
   "metadata": {},
   "source": [
    "## Functions or tools"
   ]
  },
  {
   "cell_type": "code",
   "execution_count": null,
   "metadata": {},
   "outputs": [],
   "source": [
    "import json"
   ]
  },
  {
   "cell_type": "code",
   "execution_count": null,
   "metadata": {},
   "outputs": [],
   "source": [
    "def get_current_weather(location, unit=\"fahrenheit\"):\n",
    "    \"\"\"Get the current weather in a given location\"\"\"\n",
    "    weather_info = {\n",
    "        \"location\": location,\n",
    "        \"temperature\": \"72\",\n",
    "        \"unit\": unit,\n",
    "        \"forecast\": [\"sunny\", \"windy\"],\n",
    "    }\n",
    "    return json.dumps(weather_info)\n",
    "\n",
    "\n",
    "def run_conversation(prompt):\n",
    "    # Step 1: send the conversation and available functions to GPT\n",
    "    messages = [{\"role\": \"user\", \"content\": prompt}]\n",
    "    tools = [ #function\n",
    "        {\n",
    "            \"type\": \"function\",\n",
    "            \"function\": {\n",
    "                \"name\": \"get_current_weather\",\n",
    "                \"description\": \"Get the current weather in a given location\",\n",
    "                \"parameters\": {\n",
    "                    \"type\": \"object\",\n",
    "                    \"properties\": {\n",
    "                        \"location\": {\n",
    "                            \"type\": \"string\",\n",
    "                            \"description\": \"The city and state, e.g. San Francisco, CA\",\n",
    "                        },\n",
    "                        \"unit\": {\"type\": \"string\", \"enum\": [\"celsius\", \"fahrenheit\"]},\n",
    "                    },\n",
    "                    \"required\": [\"location\"],\n",
    "                },\n",
    "            }\n",
    "        }\n",
    "    ]\n",
    "    response = client.chat.completions.create(\n",
    "        model=\"gpt-3.5-turbo-0613\",\n",
    "        messages=messages,\n",
    "        tools=tools,\n",
    "        tool_choice=None #it's not forcing to use this specific function\n",
    "    )\n",
    "    response_message = response.choices[0].message\n",
    "    \n",
    "    print (\"First response:\\n\")\n",
    "    print(response_message)\n",
    "\n",
    "    # Step 2: check if GPT wanted to call a function\n",
    "    if response_message.tool_calls:\n",
    "        # Step 3: call the function\n",
    "        # Note: the JSON response may not always be valid; be sure to handle errors\n",
    "        available_functions = {\n",
    "            \"get_current_weather\": get_current_weather,\n",
    "        }  # only one function in this example, but you can have multiple\n",
    "        function_name = response_message.tool_calls[0].function.name\n",
    "        function_to_call = available_functions[function_name]\n",
    "        function_args = json.loads(response_message.tool_calls[0].function.arguments)\n",
    "        function_response = function_to_call(\n",
    "            location=function_args.get(\"location\"),\n",
    "            unit=function_args.get(\"unit\"),\n",
    "        )\n",
    "        \n",
    "        print(\"Appending function response to conversation:\\n\")\n",
    "        print(function_response)\n",
    "\n",
    "        # Step 4: send the info on the function call and function response to GPT\n",
    "        messages.append(response_message)  # extend conversation with assistant's reply\n",
    "        messages.append(\n",
    "            {\n",
    "                \"role\": \"tool\",\n",
    "                \"tool_call_id\": response_message.tool_calls[0].id,\n",
    "                \"name\": function_name,\n",
    "                \"content\": function_response,\n",
    "            }\n",
    "        )  # extend conversation with function response\n",
    "        \n",
    "        print (messages)\n",
    "        second_response = client.chat.completions.create(\n",
    "            model=\"gpt-3.5-turbo-0613\",\n",
    "            messages=messages,\n",
    "        )  # get a new response from GPT where it can see the function response\n",
    "        \n",
    "        print(\"Final response:\\n\")\n",
    "        return second_response\n",
    "\n",
    "\n",
    "prompt = input(\"Ask me about the weather somewhere. You know you want to: \")\n",
    "print(run_conversation(prompt))"
   ]
  }
 ],
 "metadata": {
  "kernelspec": {
   "display_name": "Python 3",
   "language": "python",
   "name": "python3"
  },
  "language_info": {
   "codemirror_mode": {
    "name": "ipython",
    "version": 3
   },
   "file_extension": ".py",
   "mimetype": "text/x-python",
   "name": "python",
   "nbconvert_exporter": "python",
   "pygments_lexer": "ipython3",
   "version": "3.11.0"
  }
 },
 "nbformat": 4,
 "nbformat_minor": 2
}
