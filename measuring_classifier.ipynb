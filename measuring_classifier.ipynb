{
 "cells": [
  {
   "cell_type": "markdown",
   "metadata": {},
   "source": [
    "# Confusion Matrix\n",
    "\n",
    "Binary:\n",
    " \n",
    "<img src=\"https://cdn.prod.website-files.com/660ef16a9e0687d9cc27474a/662c42677529a0f4e97e4f96_644aea65cefe35380f198a5a_class_guide_cm08.png\" alt=\"Drawing\" style=\"width: 500px;\"/>\n",
    "\n",
    "\n"
   ]
  },
  {
   "cell_type": "markdown",
   "metadata": {},
   "source": [
    "## Accuracy\n",
    "\n",
    "Accuracy (ACC)= $\\frac{⁠TP + TN}{Actual P + Actual N}$ = $\\frac{⁠TP + TN}{\\text{total population}}$\n",
    "\n",
    "## Recall\n",
    "\n",
    "Percent of positives correctly predicted.\n",
    "\n",
    "Also known as *sensitivity*.\n",
    "\n",
    "- Important when you care about false negatives (ex. fraud detection)\n",
    "\n",
    "Recall = $\\frac{TP}{TP + FN}$\n",
    "\n",
    "## Precision\n",
    "\n",
    "Percent of relevant results\n",
    "\n",
    "Also known as *positive predictive value*.\n",
    "\n",
    "- Important when you care about false positives (ex. medical screening, drug testing)\n",
    "\n",
    "Precision = $\\frac{TP}{TP + FP}$\n",
    "\n",
    "## F1 Score\n",
    "\n",
    "- Important when you care about precision and recall (ex. )\n",
    "\n",
    "F1 Score= $\\frac{2TP}{2TP + FP + FN}$ = $2*\\frac{precision * recall}{precision + recall}$\n",
    "\n",
    " "
   ]
  },
  {
   "cell_type": "markdown",
   "metadata": {},
   "source": [
    "## ROC Curve\n",
    "\n",
    "<img src=\"https://i.sstatic.net/SFA9h.png\" alt=\"Drawing\" style=\"width: 500px;\"/>\n",
    "\n",
    "Receiver Operating Characteristic Curve (ROC Curve)\n",
    "\n",
    "Plot of true positive rate (recall) vs. false positive rate at various threshold settings\n",
    "\n",
    "Points above the diagonal represent good classification (better than random)\n",
    "\n",
    "- **The more to upper-left the better**\n",
    "\n",
    "## AUC - Area Under the Curve\n",
    "\n",
    "Equal to probability that a classifier will rank a randomly chosen positive instance higher than a randomly chosen negative one.\n",
    "\n",
    "- ROC AUC of 0.5 or below is useless classifier\n",
    "\n",
    "- ROC AUC of 1.0 is perfect"
   ]
  }
 ],
 "metadata": {
  "language_info": {
   "name": "python"
  }
 },
 "nbformat": 4,
 "nbformat_minor": 2
}
