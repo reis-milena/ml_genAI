{
 "cells": [
  {
   "cell_type": "markdown",
   "metadata": {},
   "source": [
    "# AB Test\n",
    "\n",
    "- A controlled experiment, usually in the context of a website\n",
    "\n",
    "- You test the performance of some change to your website (the variant) and measure conversion relative to your unchnged site (the control)\n",
    "\n",
    "<img src=\"https://upload.wikimedia.org/wikipedia/commons/2/2e/A-B_testing_example.png\" alt=\"Drawing\" style=\"width: 500px;\"/>\n",
    "\n",
    "\"Como o nome já diz, duas versões são comparadas, as quais são idênticas exceto por uma variante que pode impactar o comportamento do utilizador.\"\n",
    "\n",
    "Example of things to test: Design changes, UI flow, Algorithmic changes, Pricing changes...\n",
    "\n",
    "How measure the change?\n",
    "\n",
    "- Ideally choose what you are trying to influence: order amounts, profit, ad clicks, order quantity.. *(talk/align with business people)*\n",
    "\n",
    "- Attributing actions dowstream from your change can be hard: especially if you're runnig more than one experiment\n",
    "\n",
    "Common mistake (**variance is your enemy**):\n",
    "\n",
    "- Run a test for some small period of time that results in a few purchases to analyze\n",
    "\n",
    "- You take the mean order amount from A and B, and declare victory or defeat\n",
    "\n",
    "- But, there's so much random variaton in order amounts to begin with, that your result was just based upon chance\n",
    "\n",
    "Tests to evaluate/measure results:\n",
    "\n",
    "- **Z-tests** are appropriate for comparing means under stringent conditions regarding normality and a known standard deviation. \n",
    "\n",
    "- **Student's t-tests** are appropriate for comparing means under relaxed conditions when less is assumed. \n",
    "\n",
    "- **Welch's t test** assumes the least and is therefore the most commonly used test in a two-sample hypothesis test where the mean of a metric is to be optimized. While the mean of the variable to be optimized is the most common choice of estimator, others are regularly used.\n",
    "\n",
    "- A comparison of two binomial distributions such as a click-through rate one would use **Fisher's exact test**."
   ]
  },
  {
   "cell_type": "markdown",
   "metadata": {},
   "source": [
    "## How long do I run an experiment?\n",
    "\n",
    "- You have achieved significance (positive or negative)\n",
    "\n",
    "- You no longer observe meaningful trends in your p-value. In other words, you don't see any indication that your experiment will 'converge' on a result over time\n",
    "\n",
    "- You reach some pre-established upper bound on time"
   ]
  },
  {
   "cell_type": "markdown",
   "metadata": {},
   "source": [
    "## Novelty Effect\n",
    "\n",
    "\"The novelty effect is an effect of introducing new elements on some activity or behavior.\"\n",
    "\n",
    "Changes to a website will catch the attention of previous users who are used to the way it used to be:\n",
    "\n",
    "- They might click on something simply because it is new but this attention won't last forever\n",
    "\n",
    "Good idea to re-run experiments much later and validate their impact. Ofter the 'old' website will outperform the 'new' one after awhile, simply because it is a change.\n",
    "\n",
    "## Seasonal effects\n",
    "\n",
    "## Selection Bias\n",
    "\n",
    "\"Selection bias is the bias introduced by the selection of individuals, groups, or data for analysis in such a way that proper randomization is not achieved, thereby failing to ensure that the sample obtained is representative of the population intended to be analyzed\"\n",
    "\n",
    "- Run an A/A test periodically to check\n",
    "\n",
    "## Data Pollution\n",
    "\n",
    "- Are robots affection your experiment? (crawler for ex.)\n",
    "\n",
    "- Are outliers skewing the result?\n",
    "\n",
    "## Attribution Erros\n",
    "\n",
    "Often there are errors in how conversion is attributed to an experiment"
   ]
  },
  {
   "cell_type": "code",
   "execution_count": 1,
   "metadata": {},
   "outputs": [],
   "source": [
    "import numpy as np\n",
    "from scipy import stats"
   ]
  },
  {
   "cell_type": "code",
   "execution_count": 3,
   "metadata": {},
   "outputs": [
    {
     "data": {
      "text/plain": [
       "TtestResult(statistic=-13.220987829816442, pvalue=9.7472602578049e-40, df=19998.0)"
      ]
     },
     "execution_count": 3,
     "metadata": {},
     "output_type": "execute_result"
    }
   ],
   "source": [
    "A = np.random.normal(25.0,5.0,10000) # treatment group\n",
    "B = np.random.normal(26.0,5.0,10000) # control group\n",
    "stats.ttest_ind(A,B)"
   ]
  },
  {
   "cell_type": "markdown",
   "metadata": {},
   "source": [
    "Student T-tests: the null hypothesis is such that **the means of two populations are equal**.\n",
    "\n",
    "As p-value = 9.7472602578049e-40, we reject the null hypothesis."
   ]
  },
  {
   "cell_type": "code",
   "execution_count": 4,
   "metadata": {},
   "outputs": [
    {
     "data": {
      "text/plain": [
       "TtestResult(statistic=1.0259277964371356, pvalue=0.30493802842786183, df=19998.0)"
      ]
     },
     "execution_count": 4,
     "metadata": {},
     "output_type": "execute_result"
    }
   ],
   "source": [
    "B = np.random.normal(25.0,5.0,10000) # control group\n",
    "stats.ttest_ind(A,B)"
   ]
  },
  {
   "cell_type": "markdown",
   "metadata": {},
   "source": [
    "As p-value = 0.30493802842786183, we DON'T reject the null hypothesis."
   ]
  },
  {
   "cell_type": "markdown",
   "metadata": {},
   "source": [
    "Changing sample size:"
   ]
  },
  {
   "cell_type": "code",
   "execution_count": 5,
   "metadata": {},
   "outputs": [
    {
     "data": {
      "text/plain": [
       "TtestResult(statistic=-0.6432036752631257, pvalue=0.5200926862804233, df=199998.0)"
      ]
     },
     "execution_count": 5,
     "metadata": {},
     "output_type": "execute_result"
    }
   ],
   "source": [
    "A = np.random.normal(25.0,5.0,100000) # treatment group\n",
    "B = np.random.normal(25.0,5.0,100000) # control group\n",
    "stats.ttest_ind(A,B)"
   ]
  },
  {
   "cell_type": "markdown",
   "metadata": {},
   "source": [
    "As p-value = 0.5200926862804233, we DON'T reject the null hypothesis.\n",
    "\n",
    "Notice that the sample size had a quite impact on the p-value"
   ]
  },
  {
   "cell_type": "code",
   "execution_count": 9,
   "metadata": {},
   "outputs": [
    {
     "name": "stdout",
     "output_type": "stream",
     "text": [
      "TtestResult(statistic=0.0, pvalue=1.0, df=1999998.0)\n",
      "TtestResult(statistic=0.0, pvalue=1.0, df=1999998.0)\n"
     ]
    }
   ],
   "source": [
    "# sanity test\n",
    "print(stats.ttest_ind(A,A))\n",
    "print(stats.ttest_ind(B,B))"
   ]
  }
 ],
 "metadata": {
  "kernelspec": {
   "display_name": "Python 3",
   "language": "python",
   "name": "python3"
  },
  "language_info": {
   "codemirror_mode": {
    "name": "ipython",
    "version": 3
   },
   "file_extension": ".py",
   "mimetype": "text/x-python",
   "name": "python",
   "nbconvert_exporter": "python",
   "pygments_lexer": "ipython3",
   "version": "3.11.0"
  }
 },
 "nbformat": 4,
 "nbformat_minor": 2
}
