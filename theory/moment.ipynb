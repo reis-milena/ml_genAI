{
 "cells": [
  {
   "cell_type": "markdown",
   "metadata": {},
   "source": [
    "In **mathematics**, the moments of a function are certain quantitative measures related to the shape of the function's graph.\n",
    "\n",
    "In **statistics**, the moments are quantitative measure that describes the specific characteristics of a probability distribution. (measures of the shape)\n",
    "\n",
    "# Basic concepts for statistics\n",
    "\n",
    "1º moment: mean\n",
    "\n",
    "2º moment: variance\n",
    "\n",
    "3º moment: skew \n",
    "\n",
    "    - Positive skew: when the distribution has a long tail on the RIGHT\n",
    "\n",
    "    - Negative skew: when the distribution has a long tail on the LEFT\n",
    "\n",
    "4º moment: Kurtosis (how sharp is the peak? higher peaks means higer kurtosis)"
   ]
  }
 ],
 "metadata": {
  "language_info": {
   "name": "python"
  }
 },
 "nbformat": 4,
 "nbformat_minor": 2
}
