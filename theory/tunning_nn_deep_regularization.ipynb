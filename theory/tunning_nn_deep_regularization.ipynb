{
 "cells": [
  {
   "cell_type": "markdown",
   "metadata": {},
   "source": [
    "# Tunning Neural Network\n",
    "\n",
    "## Learning rate\n",
    "\n",
    "\"Learning rate is a hyper-parameter used to govern the pace at which an algorithm updates or learns the values of a parameter estimate\"\n",
    "\n",
    "\"The learning rate is a tuning parameter in an optimization algorithm that determines the step size at each iteration while moving toward a minimum of a loss function. Since it influences to what extent newly acquired information overrides old information, it metaphorically represents the speed at which a machine learning model 'learns'\"\n",
    "\n",
    "Effect of learning rate:\n",
    "\n",
    "- **Too high learning rate** means you might overshoot the optimal solution\n",
    "\n",
    "- **Too small** will take too long to find the optimal solution"
   ]
  },
  {
   "cell_type": "markdown",
   "metadata": {},
   "source": [
    "## Batch Size\n",
    "\n",
    "How many training samples are used within each epoch.\n",
    "\n",
    "- **Smaller batch sizes** tend to not get stuck in local minima\n",
    "\n",
    "- **Too large batch size** can converge on the wrong solution\n",
    "\n",
    "- Random shuffling at each epoch can make this look like very inconsistent results from run to run"
   ]
  },
  {
   "cell_type": "markdown",
   "metadata": {},
   "source": [
    "# Deep Learning Regularization\n",
    "\n",
    "\"Regularization is a set of methods for reducing overfitting in machine learning models. Typically, regularization trades a marginal decrease in training accuracy for an increase in generalizability.\"\n",
    "\n",
    "- Too many layers or too many neurons: can be easier to overfit\n",
    "\n",
    "## Dropout\n",
    "\n",
    "Drop out it removes some of the neurons randomly in your network each epoch while it's training. It has the effect to force the model to learn and spread out its learning among different layers and neurons.\n",
    "\n",
    "## Early Stopping\n",
    "\n",
    "Guarantee that you are not training futher than you should."
   ]
  }
 ],
 "metadata": {
  "language_info": {
   "name": "python"
  }
 },
 "nbformat": 4,
 "nbformat_minor": 2
}
