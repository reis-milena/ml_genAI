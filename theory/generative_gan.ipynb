{
 "cells": [
  {
   "cell_type": "markdown",
   "metadata": {},
   "source": [
    "# Generative Adversarial Networks - GAN\n",
    "\n",
    "\"Given a training set, this technique learns to generate new data with the same statistics as the training set. For example, a GAN trained on photographs can generate new photographs that look at least superficially authentic to human observers, having many realistic characteristics.\"\n",
    "\n",
    "Usage examples:\n",
    "\n",
    "- Tech behind 'deepfakes', face-swapping and aging apps\n",
    "\n",
    "- Anomaly detection, self-driving, generating synthetic dataset to remove private info, art and music\n",
    "\n"
   ]
  },
  {
   "cell_type": "markdown",
   "metadata": {},
   "source": [
    "## How it works\n",
    "\n",
    "![](https://encrypted-tbn0.gstatic.com/images?q=tbn:ANd9GcQi-lVOguuR-78rx7MunSf5gk8X4LFZR-1aUw&s)\n",
    "\n",
    "![](https://i0.wp.com/semiengineering.com/wp-content/uploads/nn3.png?fit=756%2C558&ssl=1)\n",
    "\n",
    "- Learns the actual distribution of latent vectors (doesn't assume Gaussian normal distributions like VAE)\n",
    "\n",
    "- The **generator** maps random noise to a probability distribution\n",
    "\n",
    "- The **discriminator** learns to identify real images from generated (fake) images\n",
    "\n",
    "- The **generator** is trying to fool the **discriminator** into thinkng its images are real. \n",
    "\n",
    "- The **discriminator** is trying to catch the **generator**\n",
    "\n",
    "- The generator and discriminator are **adversarial**, hence the name\n",
    "\n",
    "When the discriminator can't tell the difference anymore, we're done! (in theory, because it's really hard)\n",
    "\n",
    "Complicated and delicate:\n",
    "\n",
    "- Training is very unstable, lots of trial and error/ hyperparameter tuning\n",
    "\n",
    "- Mode collapse: different kinds of things (faces for ex.), the model can learn very well to do only one of those things and result on low loss function\n",
    "\n",
    "- Vanishing gradients"
   ]
  },
  {
   "cell_type": "markdown",
   "metadata": {},
   "source": [
    "## Adversarial Loss Function\n",
    "\n",
    "![](https://lh6.googleusercontent.com/bNCS4HQXVJHa7mAv7CqQWbyJn076w5d5liTpVOV8meRz2tYtjtR-p92opSH9zAb4Yv2qhF0hMAyWvQef3a2EqR4J_dLq3-ZjsJufN38r-FBbSB1cRUjMyd5JrExyUh9JYfOdSQ2e)\n",
    "\n",
    "Min-max game:\n",
    "\n",
    "- Generator (G) is minimizing its loss in creating realistic images\n",
    "\n",
    "- Discriminator (D), at the same time, is maximizing its ability to detect fakes"
   ]
  },
  {
   "cell_type": "markdown",
   "metadata": {},
   "source": [
    "# GAN Simulator\n",
    "\n",
    "[GAN Lab](https://poloclub.github.io/ganlab/)\n",
    "\n",
    "[GAN Playgorund](http://reiinakano.com/gan-playground/)"
   ]
  }
 ],
 "metadata": {
  "language_info": {
   "name": "python"
  }
 },
 "nbformat": 4,
 "nbformat_minor": 2
}
